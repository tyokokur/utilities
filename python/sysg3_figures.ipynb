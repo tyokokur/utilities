{
 "cells": [
  {
   "cell_type": "code",
   "execution_count": 1,
   "id": "33f42ccc-cfaf-4549-91f6-a87c95f20f38",
   "metadata": {},
   "outputs": [
    {
     "name": "stdout",
     "output_type": "stream",
     "text": [
      "tjy_udf:  ['CalcF', 'H_find', 'Heights', 'Kap_D', 'elread', 'get_fp', 'get_fs', 'git_sync', 'lighten_color', 'phread', 'phreadxyz', 'plot_anim', 'plot_pha', 'plot_pha_feed', 'ticks']\n"
     ]
    }
   ],
   "source": [
    "#@title Imports \n",
    "import numpy as np, pandas as pd, matplotlib.pyplot as plt, matplotlib as mpl\n",
    "import tjy_udf as tjy\n",
    "from Data import Data\n",
    "from Pha3D import Pha3D\n",
    "print(\"tjy_udf: \", list(filter(lambda x: '__' not in x, dir(tjy)))) # Print contained functions\n",
    "mpl.rc_file('tjy.mplstyle')\n",
    "\n",
    "pd.set_option('display.max_columns', 500)\n",
    "pd.set_option('display.width', 1000)\n",
    "pd.set_option('display.max_colwidth', None)\n",
    "DISPLAY_SORTED = True\n",
    "from matplotlib.lines import Line2D\n",
    "from matplotlib.patches import Patch\n",
    "from matplotlib import ticker\n",
    "from matplotlib.ticker import (AutoMinorLocator, MultipleLocator)\n",
    "from mpl_toolkits.axes_grid1.inset_locator import inset_axes\n",
    "    \n",
    "#GIT = 'https://github.com/tyokokur/tmpdat/raw/main/sysg3/'\n",
    "#''' If SSL error _ssl.c:997: \n",
    "#    pip install --upgrade certifi'''\n",
    "\n",
    "from sysg3_data import *"
   ]
  },
  {
   "cell_type": "code",
   "execution_count": null,
   "id": "e91e310e-0f7c-4feb-a03c-21a26495da0a",
   "metadata": {},
   "outputs": [],
   "source": [
    "## Files needed locally\n",
    "f1_fnames = []\n",
    "f2_fnames = ['"
   ]
  },
  {
   "cell_type": "markdown",
   "id": "d4a4670e-dab3-4cf6-b0d8-87ef96f08440",
   "metadata": {},
   "source": [
    "# Figure 2"
   ]
  },
  {
   "cell_type": "code",
   "execution_count": null,
   "id": "6b7451bb-b976-432f-a7ec-c77f0a2b937c",
   "metadata": {},
   "outputs": [],
   "source": []
  }
 ],
 "metadata": {
  "kernelspec": {
   "display_name": "Python 3 (ipykernel)",
   "language": "python",
   "name": "python3"
  },
  "language_info": {
   "codemirror_mode": {
    "name": "ipython",
    "version": 3
   },
   "file_extension": ".py",
   "mimetype": "text/x-python",
   "name": "python",
   "nbconvert_exporter": "python",
   "pygments_lexer": "ipython3",
   "version": "3.10.7"
  }
 },
 "nbformat": 4,
 "nbformat_minor": 5
}
