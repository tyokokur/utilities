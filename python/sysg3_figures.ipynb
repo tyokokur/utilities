{
 "cells": [
  {
   "cell_type": "code",
   "execution_count": 1,
   "id": "33f42ccc-cfaf-4549-91f6-a87c95f20f38",
   "metadata": {},
   "outputs": [
    {
     "name": "stdout",
     "output_type": "stream",
     "text": [
      "tjy_udf:  ['CalcF', 'H_find', 'Heights', 'Kap_D', 'elread', 'get_fp', 'get_fs', 'git_sync', 'lighten_color', 'phread', 'phreadxyz', 'plot_anim', 'plot_pha', 'plot_pha_feed', 'ticks']\n"
     ]
    }
   ],
   "source": [
    "#@title Imports \n",
    "import numpy as np, pandas as pd, matplotlib.pyplot as plt, matplotlib as mpl\n",
    "import tjy_udf as tjy\n",
    "from Data import Data\n",
    "from Pha3D import Pha3D\n",
    "print(\"tjy_udf: \", list(filter(lambda x: '__' not in x, dir(tjy)))) # Print contained functions\n",
    "mpl.rc_file('tjy.mplstyle')\n",
    "\n",
    "pd.set_option('display.max_columns', 500)\n",
    "pd.set_option('display.width', 1000)\n",
    "pd.set_option('display.max_colwidth', None)\n",
    "DISPLAY_SORTED = True\n",
    "from matplotlib.lines import Line2D\n",
    "from matplotlib.patches import Patch\n",
    "from matplotlib import ticker\n",
    "from matplotlib.ticker import (AutoMinorLocator, MultipleLocator)\n",
    "from mpl_toolkits.axes_grid1.inset_locator import inset_axes\n",
    "    \n",
    "#GIT = 'https://github.com/tyokokur/tmpdat/raw/main/sysg3/'\n",
    "#''' If SSL error _ssl.c:997: \n",
    "#    pip install --upgrade certifi'''\n",
    "\n",
    "from sysg3_data import *"
   ]
  },
  {
   "cell_type": "code",
   "execution_count": 4,
   "id": "e91e310e-0f7c-4feb-a03c-21a26495da0a",
   "metadata": {},
   "outputs": [],
   "source": [
    "## Files needed locally\n",
    "f1_fnames = []\n",
    "\n",
    "f2_fnames = ['ph_a30s05e3_cyl.dat', 'ph_a30s020_cyl.dat', 'ph_a30s030_cyl-str.dat', 'ph_a30s055_str.dat']\n",
    "f2_boxes  = []\n",
    "\n",
    "f4_fnames = ['ph_a20s020_mic-mul.dat', 'ph_a30s020_str-mul.dat', 'ph_a30s040_hom-mul.dat']\n",
    "f4_boxes  = []"
   ]
  },
  {
   "cell_type": "markdown",
   "id": "d4a4670e-dab3-4cf6-b0d8-87ef96f08440",
   "metadata": {},
   "source": [
    "# Figure 3"
   ]
  },
  {
   "cell_type": "code",
   "execution_count": 14,
   "id": "6b7451bb-b976-432f-a7ec-c77f0a2b937c",
   "metadata": {},
   "outputs": [
    {
     "ename": "IndentationError",
     "evalue": "unindent does not match any outer indentation level (<tokenize>, line 25)",
     "output_type": "error",
     "traceback": [
      "\u001b[1;36m  File \u001b[1;32m<tokenize>:25\u001b[1;36m\u001b[0m\n\u001b[1;33m    morph, minF, mul, done = get_Morph(a,s)\u001b[0m\n\u001b[1;37m    ^\u001b[0m\n\u001b[1;31mIndentationError\u001b[0m\u001b[1;31m:\u001b[0m unindent does not match any outer indentation level\n"
     ]
    }
   ],
   "source": [
    "morph_ms = {\n",
    "    'mic': {'marker':'^', 'c':'blue'  , 'ms':10}, \n",
    "    'cyl': {'marker':'d', 'c':'purple', 'ms':10},\n",
    "    'cyl-str': {'marker':'*', 'c':'red', 'ms':12},\n",
    "    'str': {'marker':'s', 'c':'orange', 'ms':8 }, \n",
    "    'hol': {'marker':'o', 'c':'green' , 'ms':10}, \n",
    "    'hom': {'marker':'X', 'c':'black' , 'ms':8}\n",
    "}\n",
    "leg_ms = [Line2D([0],[0], **morph_ms[mor], lw=0) for mor in morph_ms.keys()]\n",
    "leg_labs=['Micelle', 'Cylinder', 'Cyl-Str', 'Stripe', 'Hole', 'Homogeneous']\n",
    "\n",
    "def get_Morph(a,s):\n",
    "    AX = All.all[All.all.loc[:,'alpha'] == a]\n",
    "    AXSY = AX[AX.loc[:,'sigma'] == s].reset_index()\n",
    "    return AXSY.morph[np.nanargmin([i.minF() for i in AXSY.data])], min([i.minF() for i in AXSY.data]), AXSY.multi[np.nanargmin([i.minF() for i in AXSY.data])], AXSY.done.to_list()\n",
    "\n",
    "for (a,s) in [(0.0, i) for i in (3e-03, 5e-03, 6e-03, 1e-02, 2e-02, 3e-02, 4e-02, 5e-02, 6e-02)] +\\ # 7e-03\n",
    "             [(0.05, i) for i in (3e-03, 5e-03, 6e-03, 1e-02, 2e-02, 3e-02, 4e-02, 5e-02, 6e-02)] +\\ # 7e-03\n",
    "             [(0.10, i) for i in (2.5e-03, 5e-03, 7.5e-03, 1e-02)] +\\\n",
    "             [(0.15, i) for i in (5e-03, 1e-02, 2e-02, 3e-02)] +\\\n",
    "             [(0.20, i) for i in (5e-03, 1e-02, 0.015, 0.0185, 2e-02)] +\\ # 0.022, 0.025, 0.27\n",
    "             [(0.225, i) for i in (0.025, 0.0275, 0.030)] +\\\n",
    "             [(0.25, i) for i in (2e-02, 0.025, 0.027, 3e-02, 0.0325)] +\\\n",
    "             [(0.30, i) for i in (0.0025, 5e-03, 2e-02, 0.025, 3e-02, 0.0325, 0.035, 4e-02, 0.045, 5e-02, 0.055)]:\n",
    "    morph, minF, mul, done = get_Morph(a,s)\n",
    "    x,y,mor = s, a, morph\n",
    "    \n",
    "    if done == [True]*len(done): \n",
    "        if mul:  plt.plot(x,y, lw=0, **morph_ms[mor], mfc=tjy.lighten_color(morph_ms[mor]['c'], 0.3))\n",
    "        else:     plt.plot(x,y, lw=0, **morph_ms[mor])\n",
    "    else:  plt.plot(x,y, lw=0, **morph_ms[mor], mfc='w')\n",
    "\n",
    "plt.xlabel(r'$\\sigma\\ [\\mathrm{nm}^{-2}]$')\n",
    "plt.xlim(0, 0.060)\n",
    "plt.ylabel(r'$\\alpha$')\n",
    "plt.ylim(-0.025,0.325)\n",
    "plt.legend(leg_ms, leg_labs, loc=(1.02,0.3))\n",
    "tjy.ticks()\n",
    "\n",
    "# (0.0, 3e-03), (0.0, 5e-03), (0.0, 6e-03),  (0.0, 1e-02), (0.0, 2e-02), \n",
    "    #               (0.0, 3e-02), (0.0, 4e-02), (0.0, 5e-02), (0.0, 6e-02), #(0.0, 7e-03),\n",
    "    #           (0.05,3e-03), (0.05,5e-03), (0.05, 6e-03), (0.05, 1e-02), (0.05, 2e-02), \n",
    "    #               (0.05, 3e-02), (0.05, 4e-02), (0.05, 5e-02), (0.05, 6e-02),#(0.05, 7e-03),\n",
    "    #           (0.1, 2.5e-03), (0.1, 5e-03), (0.1, 7.5e-03), (0.1, 1e-02),\n",
    "    #           (0.15,5e-03), (0.15,0.010), (0.15, 0.020), (0.15, 0.030),\n",
    "    #           (0.2, 5e-03), (0.2, 0.010), (0.2, 0.015), (0.2, 0.0175), (0.2, 0.020), #(0.2, 0.022), (0.2, 0.025), (0.2, 0.027),\n",
    "    #           (0.225, 0.025), (0.225, 0.0275), (0.225, 0.030),\n",
    "    #           (0.25, 0.020), (0.25, 0.025), (0.25,0.027), (0.25,0.030), (0.25, 0.0325),\n",
    "    #           (0.3, 0.0025), (0.3, 0.005), (0.3, 0.020), (0.3, 0.025), (0.3, 0.030), (0.3, 0.0325), \n",
    "    #               (0.3, 0.035), (0.3, 0.04), (0.3, 0.045), (0.3, 0.050), (0.3, 0.055)]:"
   ]
  },
  {
   "cell_type": "code",
   "execution_count": 16,
   "id": "e6f7834c-3ff2-4667-b08c-1e8eed209090",
   "metadata": {},
   "outputs": [
    {
     "data": {
      "text/plain": [
       "[(0.0, 0.001), (0.0, 0.01), (0.0, 0.1), (0.1, 0.0001), (0.1, 0.01)]"
      ]
     },
     "execution_count": 16,
     "metadata": {},
     "output_type": "execute_result"
    }
   ],
   "source": [
    "[(0.0, i) for i in (1e-03, 1e-02, 0.1)] +\\\n",
    "    [(0.1, i) for i in (1e-04, 1e-2)]"
   ]
  },
  {
   "cell_type": "code",
   "execution_count": 19,
   "id": "0d0597a9-663f-4450-8815-b68f4c5be0d0",
   "metadata": {},
   "outputs": [
    {
     "ename": "IndentationError",
     "evalue": "unindent does not match any outer indentation level (<tokenize>, line 9)",
     "output_type": "error",
     "traceback": [
      "\u001b[1;36m  File \u001b[1;32m<tokenize>:9\u001b[1;36m\u001b[0m\n\u001b[1;33m    x\u001b[0m\n\u001b[1;37m    ^\u001b[0m\n\u001b[1;31mIndentationError\u001b[0m\u001b[1;31m:\u001b[0m unindent does not match any outer indentation level\n"
     ]
    }
   ],
   "source": [
    "for (a,s) in [(0.0, i) for i in (3e-03, 5e-03, 6e-03, 1e-02, 2e-02, 3e-02, 4e-02, 5e-02, 6e-02)] +\\ # 7e-03\n",
    "             [(0.05, i) for i in (3e-03, 5e-03, 6e-03, 1e-02, 2e-02, 3e-02, 4e-02, 5e-02, 6e-02)] +\\ # 7e-03\n",
    "             [(0.10, i) for i in (2.5e-03, 5e-03, 7.5e-03, 1e-02)] +\\\n",
    "             [(0.15, i) for i in (5e-03, 1e-02, 2e-02, 3e-02)] +\\\n",
    "             [(0.20, i) for i in (5e-03, 1e-02, 0.015, 0.0185, 2e-02)] +\\ # 0.022, 0.025, 0.27\n",
    "             [(0.225, i) for i in (0.025, 0.0275, 0.030)] +\\\n",
    "             [(0.25, i) for i in (2e-02, 0.025, 0.027, 3e-02, 0.0325)] +\\\n",
    "             [(0.30, i) for i in (0.0025, 5e-03, 2e-02, 0.025, 3e-02, 0.0325, 0.035, 4e-02, 0.045, 5e-02, 0.055)]:\n"
   ]
  }
 ],
 "metadata": {
  "kernelspec": {
   "display_name": "Python 3 (ipykernel)",
   "language": "python",
   "name": "python3"
  },
  "language_info": {
   "codemirror_mode": {
    "name": "ipython",
    "version": 3
   },
   "file_extension": ".py",
   "mimetype": "text/x-python",
   "name": "python",
   "nbconvert_exporter": "python",
   "pygments_lexer": "ipython3",
   "version": "3.10.7"
  }
 },
 "nbformat": 4,
 "nbformat_minor": 5
}
