{
 "cells": [
  {
   "cell_type": "code",
   "execution_count": 1,
   "id": "294c0e75-33a9-4818-8032-75c67408a92d",
   "metadata": {},
   "outputs": [],
   "source": [
    "import numpy as np, pandas as pd"
   ]
  },
  {
   "cell_type": "code",
   "execution_count": 46,
   "id": "6cdf224d-2a69-4d40-abfc-fb432a638061",
   "metadata": {},
   "outputs": [],
   "source": [
    "from pathlib import Path\n",
    "p = Path('C:/Users/takas/OneDrive/Desktop/2025 GA Financial Census_May 15, 2025_21.34.csv')\n",
    "df = pd.read_csv(p,header=1)\n"
   ]
  },
  {
   "cell_type": "markdown",
   "id": "d83f5d67-6753-4f03-9b9e-be13de24188f",
   "metadata": {},
   "source": [
    "## Clean Qualtrics CSV"
   ]
  },
  {
   "cell_type": "code",
   "execution_count": 67,
   "id": "758c086d-95d4-4c93-9ac8-65e71530899a",
   "metadata": {},
   "outputs": [
    {
     "name": "stdout",
     "output_type": "stream",
     "text": [
      "/*****\n",
      "\n",
      "Data read into df1. 362 responses. 54 questions asked.\n",
      "\n",
      "*****/\n"
     ]
    }
   ],
   "source": [
    "df1 = df.drop([0])\n",
    "\n",
    "# No previews\n",
    "df1 = df1[df1['Response Type']!='Survey Preview'].reset_index(drop=True)\n",
    "\n",
    "# Discard unnecessary data\n",
    "df1 = df1.iloc[:,17:]\n",
    "\n",
    "# Print data summary\n",
    "print('/*****\\n\\nData read into df1. {} responses. {} questions asked.\\n\\n*****/'.format(*df1.shape))"
   ]
  },
  {
   "cell_type": "markdown",
   "id": "dfedc406-e721-40b6-b7ca-260d4929353b",
   "metadata": {},
   "source": [
    "## Background"
   ]
  },
  {
   "cell_type": "code",
   "execution_count": 70,
   "id": "473061ce-22bf-4214-b5cd-fd8654736e3d",
   "metadata": {},
   "outputs": [
    {
     "data": {
      "text/html": [
       "<div>\n",
       "<style scoped>\n",
       "    .dataframe tbody tr th:only-of-type {\n",
       "        vertical-align: middle;\n",
       "    }\n",
       "\n",
       "    .dataframe tbody tr th {\n",
       "        vertical-align: top;\n",
       "    }\n",
       "\n",
       "    .dataframe thead th {\n",
       "        text-align: right;\n",
       "    }\n",
       "</style>\n",
       "<table border=\"1\" class=\"dataframe\">\n",
       "  <thead>\n",
       "    <tr style=\"text-align: right;\">\n",
       "      <th></th>\n",
       "      <th>What division is your program in? - Selected Choice</th>\n",
       "      <th>What division is your program in? - Other (please specify) - Text</th>\n",
       "      <th>Which department are you in? - Selected Choice</th>\n",
       "    </tr>\n",
       "  </thead>\n",
       "  <tbody>\n",
       "    <tr>\n",
       "      <th>0</th>\n",
       "      <td>School of Information</td>\n",
       "      <td>NaN</td>\n",
       "      <td>Information &amp; Data Science</td>\n",
       "    </tr>\n",
       "    <tr>\n",
       "      <th>1</th>\n",
       "      <td>College of Chemistry</td>\n",
       "      <td>NaN</td>\n",
       "      <td>Chemical and Biomolecular Engineering</td>\n",
       "    </tr>\n",
       "    <tr>\n",
       "      <th>2</th>\n",
       "      <td>School of Public Health</td>\n",
       "      <td>NaN</td>\n",
       "      <td>Health Policy and Management</td>\n",
       "    </tr>\n",
       "    <tr>\n",
       "      <th>3</th>\n",
       "      <td>Letters and Science - Mathematical and Physica...</td>\n",
       "      <td>NaN</td>\n",
       "      <td>Mathematics</td>\n",
       "    </tr>\n",
       "    <tr>\n",
       "      <th>4</th>\n",
       "      <td>School of Law</td>\n",
       "      <td>NaN</td>\n",
       "      <td>Law</td>\n",
       "    </tr>\n",
       "  </tbody>\n",
       "</table>\n",
       "</div>"
      ],
      "text/plain": [
       "  What division is your program in? - Selected Choice  \\\n",
       "0                              School of Information    \n",
       "1                               College of Chemistry    \n",
       "2                            School of Public Health    \n",
       "3  Letters and Science - Mathematical and Physica...    \n",
       "4                                      School of Law    \n",
       "\n",
       "  What division is your program in? - Other (please specify) - Text  \\\n",
       "0                                                NaN                  \n",
       "1                                                NaN                  \n",
       "2                                                NaN                  \n",
       "3                                                NaN                  \n",
       "4                                                NaN                  \n",
       "\n",
       "  Which department are you in? - Selected Choice  \n",
       "0                     Information & Data Science  \n",
       "1          Chemical and Biomolecular Engineering  \n",
       "2                   Health Policy and Management  \n",
       "3                                    Mathematics  \n",
       "4                                            Law  "
      ]
     },
     "execution_count": 70,
     "metadata": {},
     "output_type": "execute_result"
    }
   ],
   "source": [
    "df_bg = df1.iloc[:,:3]\n",
    "df_bg.head()"
   ]
  }
 ],
 "metadata": {
  "kernelspec": {
   "display_name": "Python 3 (ipykernel)",
   "language": "python",
   "name": "python3"
  },
  "language_info": {
   "codemirror_mode": {
    "name": "ipython",
    "version": 3
   },
   "file_extension": ".py",
   "mimetype": "text/x-python",
   "name": "python",
   "nbconvert_exporter": "python",
   "pygments_lexer": "ipython3",
   "version": "3.10.7"
  }
 },
 "nbformat": 4,
 "nbformat_minor": 5
}
