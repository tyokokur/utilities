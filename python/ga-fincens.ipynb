{
 "cells": [
  {
   "cell_type": "code",
   "execution_count": 1,
   "id": "294c0e75-33a9-4818-8032-75c67408a92d",
   "metadata": {},
   "outputs": [],
   "source": [
    "import numpy as np, pandas as pd"
   ]
  },
  {
   "cell_type": "code",
   "execution_count": 46,
   "id": "6cdf224d-2a69-4d40-abfc-fb432a638061",
   "metadata": {},
   "outputs": [],
   "source": [
    "from pathlib import Path\n",
    "p = Path('C:/Users/takas/OneDrive/Desktop/2025 GA Financial Census_May 15, 2025_21.34.csv')\n",
    "df = pd.read_csv(p,header=1)\n"
   ]
  },
  {
   "cell_type": "markdown",
   "id": "d83f5d67-6753-4f03-9b9e-be13de24188f",
   "metadata": {},
   "source": [
    "## Clean Qualtrics CSV"
   ]
  },
  {
   "cell_type": "code",
   "execution_count": 67,
   "id": "758c086d-95d4-4c93-9ac8-65e71530899a",
   "metadata": {},
   "outputs": [
    {
     "name": "stdout",
     "output_type": "stream",
     "text": [
      "/*****\n",
      "\n",
      "Data read into df1. 362 responses. 54 questions asked.\n",
      "\n",
      "*****/\n"
     ]
    }
   ],
   "source": [
    "df1 = df.drop([0])\n",
    "\n",
    "# No previews\n",
    "df1 = df1[df1['Response Type']!='Survey Preview'].reset_index(drop=True)\n",
    "\n",
    "# Discard unnecessary data\n",
    "df1 = df1.iloc[:,17:]\n",
    "\n",
    "# Print data summary\n",
    "print('/*****\\n\\nData read into df1. {} responses. {} questions asked.\\n\\n*****/'.format(*df1.shape))"
   ]
  },
  {
   "cell_type": "markdown",
   "id": "dfedc406-e721-40b6-b7ca-260d4929353b",
   "metadata": {},
   "source": [
    "## Background"
   ]
  },
  {
   "cell_type": "code",
   "execution_count": 102,
   "id": "473061ce-22bf-4214-b5cd-fd8654736e3d",
   "metadata": {},
   "outputs": [
    {
     "name": "stdout",
     "output_type": "stream",
     "text": [
      "Other divisions:\n",
      "\t Quantitative bio sciences,  Biophysics,  QB3, \n"
     ]
    }
   ],
   "source": [
    "df_bg = df1.iloc[:,:6]\n",
    "clabs = df_bg.columns\n",
    "\n",
    "div_other = df_bg.pop(clabs[1])\n",
    "if div_other.count() > 0: \n",
    "    print('Other divisions:')\n",
    "    print('\\t',*['{}, '.format(i) for i in div_other[div_other.notna()]])\n",
    "\n",
    "dpt_other = df_bg.pop(clabs[3])\n",
    "if dpt_other.count() > 0:\n",
    "    print(dpt_other[dpt_other.notna()])\n",
    "\n",
    "dpt_speci = df_bg.pop(clabs[4])\n",
    "if dpt_speci.count() > 0:\n",
    "    print(dpt_speci[dpt_speci.notna()])"
   ]
  }
 ],
 "metadata": {
  "kernelspec": {
   "display_name": "Python 3 (ipykernel)",
   "language": "python",
   "name": "python3"
  },
  "language_info": {
   "codemirror_mode": {
    "name": "ipython",
    "version": 3
   },
   "file_extension": ".py",
   "mimetype": "text/x-python",
   "name": "python",
   "nbconvert_exporter": "python",
   "pygments_lexer": "ipython3",
   "version": "3.10.7"
  }
 },
 "nbformat": 4,
 "nbformat_minor": 5
}
