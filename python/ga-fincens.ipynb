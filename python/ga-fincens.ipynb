{
 "cells": [
  {
   "cell_type": "code",
   "execution_count": 3,
   "id": "294c0e75-33a9-4818-8032-75c67408a92d",
   "metadata": {},
   "outputs": [],
   "source": [
    "import numpy as np, pandas as pd\n",
    "import matplotlib.pyplot as plt, matplotlib as mpl\n",
    "mpl.rc_file('tjy.mplstyle')"
   ]
  },
  {
   "cell_type": "markdown",
   "id": "2c41b938-c02f-4621-be5e-d97f7beb084d",
   "metadata": {},
   "source": [
    "## Import Qualtrics CSV"
   ]
  },
  {
   "cell_type": "code",
   "execution_count": 5,
   "id": "6cdf224d-2a69-4d40-abfc-fb432a638061",
   "metadata": {},
   "outputs": [],
   "source": [
    "from pathlib import Path\n",
    "p = Path('C:/Users/takas/OneDrive/Desktop/2025 GA Financial Census_May 15, 2025_21.34.csv')\n",
    "df = pd.read_csv(p,header=1)"
   ]
  },
  {
   "cell_type": "markdown",
   "id": "d83f5d67-6753-4f03-9b9e-be13de24188f",
   "metadata": {},
   "source": [
    "## Clean Qualtrics CSV"
   ]
  },
  {
   "cell_type": "code",
   "execution_count": 28,
   "id": "758c086d-95d4-4c93-9ac8-65e71530899a",
   "metadata": {},
   "outputs": [
    {
     "name": "stdout",
     "output_type": "stream",
     "text": [
      "Data read into df1.\n",
      "362 responses.\n",
      "54 questions asked.\n"
     ]
    }
   ],
   "source": [
    "df1 = df.drop([0])\n",
    "\n",
    "# No previews\n",
    "df1 = df1[df1['Response Type']!='Survey Preview'].reset_index(drop=True)\n",
    "\n",
    "# Discard unnecessary data\n",
    "df1 = df1.iloc[:,17:]\n",
    "\n",
    "# Print data summary\n",
    "print('Data read into df1.\\n{} responses.\\n{} questions asked.'.format(*df1.shape))"
   ]
  },
  {
   "cell_type": "markdown",
   "id": "dfedc406-e721-40b6-b7ca-260d4929353b",
   "metadata": {},
   "source": [
    "## Background"
   ]
  },
  {
   "cell_type": "code",
   "execution_count": 48,
   "id": "473061ce-22bf-4214-b5cd-fd8654736e3d",
   "metadata": {},
   "outputs": [
    {
     "name": "stdout",
     "output_type": "stream",
     "text": [
      "Background data read into df_bg.\n",
      "6 questions in this section:\n",
      "\t1. What division is your program in? - Selected Choice\n",
      " \t2. What division is your program in? - Other (please specify) - Text\n",
      " \t3. Which department are you in? - Selected Choice\n",
      " \t4. Which department are you in? - Other (please specify) - Text\n",
      " \t5. Please specify which department you are in\n",
      " \t6. What is your degree program?\n",
      "\n",
      "Other divisions (Q2):\n",
      "\t['Quantitative bio sciences', 'Biophysics', 'QB3']\n",
      "Other departments (Q4):\n",
      "\tNone\n",
      "Specified departments (Q5):\n",
      "\tNone\n"
     ]
    }
   ],
   "source": [
    "df_bg = df1.iloc[:,:6]\n",
    "clabs = df_bg.columns.to_list()\n",
    "print('Background data read into df_bg.\\n{} questions in this section:'.format(df_bg.shape[1]))\n",
    "print(*['\\t{}. {}\\n'.format(ind+1, i) for ind, i in enumerate(clabs)])\n",
    "\n",
    "print_fil = lambda x: print('\\t'+str([i for i in x[x.notna()]]))\n",
    "\n",
    "div_other = df_bg.pop(clabs[1])\n",
    "print('Other divisions (Q2):')\n",
    "if div_other.count() > 0: \n",
    "    print_fil(div_other)\n",
    "else: \n",
    "    print('\\tNone')\n",
    "\n",
    "dpt_other = df_bg.pop(clabs[3])\n",
    "print('Other departments (Q4):')\n",
    "if dpt_other.count() > 0:\n",
    "    print_fil(dpt_other)\n",
    "else: \n",
    "    print('\\tNone')\n",
    "\n",
    "dpt_speci = df_bg.pop(clabs[4])\n",
    "print('Specified departments (Q5):')\n",
    "if dpt_speci.count() > 0:\n",
    "    print_fil(dpt_speci)\n",
    "else: \n",
    "    print('\\tNone')"
   ]
  },
  {
   "cell_type": "code",
   "execution_count": 60,
   "id": "aa76dcf7-17b6-4a55-a9e1-66223f47339b",
   "metadata": {},
   "outputs": [
    {
     "name": "stdout",
     "output_type": "stream",
     "text": [
      "['School of Information' 'College of Chemistry' 'School of Public Health'\n",
      " 'Letters and Science - Mathematical and Physical Sciences'\n",
      " 'School of Law' 'Letters and Science - Arts and Humanities'\n",
      " 'School of Optometry' 'College of Engineering'\n",
      " 'College of Environmental Design' 'School of Social Welfare'\n",
      " 'Goldman School of Public Policy'\n",
      " 'Letters and Science - Biological Sciences'\n",
      " 'Berkeley School of Education' 'Letters and Science - Social Sciences'\n",
      " 'Haas School of Business' 'Rausser College of Natural Resources'\n",
      " 'Other (please specify)'\n",
      " 'College of Computing, Data Science, and Society']\n"
     ]
    }
   ],
   "source": [
    "# Division\n",
    "div_data = df_bg[clabs[0]]\n",
    "div_list = div_data[div_data.notna()].unique()\n",
    "print(div_list)\n",
    "counts = [div_data[div_data==div_list[i]].count() for i in range(len(div_list))]\n",
    "div_names = {'School of Information': 'iSchool'}"
   ]
  },
  {
   "cell_type": "code",
   "execution_count": 62,
   "id": "d3287883-59ff-47a7-8c4b-731705ab7866",
   "metadata": {},
   "outputs": [
    {
     "data": {
      "text/plain": [
       "<BarContainer object of 1 artists>"
      ]
     },
     "execution_count": 62,
     "metadata": {},
     "output_type": "execute_result"
    },
    {
     "data": {
      "image/png": "[encoded data removed]",
      "text/plain": [
       "<Figure size 640x480 with 1 Axes>"
      ]
     },
     "metadata": {},
     "output_type": "display_data"
    }
   ],
   "source": [
    "plt.barh(div_names[div_list[0]], counts[0])"
   ]
  }
 ],
 "metadata": {
  "kernelspec": {
   "display_name": "Python 3 (ipykernel)",
   "language": "python",
   "name": "python3"
  },
  "language_info": {
   "codemirror_mode": {
    "name": "ipython",
    "version": 3
   },
   "file_extension": ".py",
   "mimetype": "text/x-python",
   "name": "python",
   "nbconvert_exporter": "python",
   "pygments_lexer": "ipython3",
   "version": "3.10.7"
  }
 },
 "nbformat": 4,
 "nbformat_minor": 5
}
