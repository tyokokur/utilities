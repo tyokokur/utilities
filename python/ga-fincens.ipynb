{
 "cells": [
  {
   "cell_type": "code",
   "execution_count": 2,
   "id": "294c0e75-33a9-4818-8032-75c67408a92d",
   "metadata": {},
   "outputs": [
    {
     "ename": "SyntaxError",
     "evalue": "invalid syntax (4239418814.py, line 2)",
     "output_type": "error",
     "traceback": [
      "\u001b[1;36m  Cell \u001b[1;32mIn [2], line 2\u001b[1;36m\u001b[0m\n\u001b[1;33m    matplotlib.pyplot as plt, matplotlib as mpl\u001b[0m\n\u001b[1;37m                      ^\u001b[0m\n\u001b[1;31mSyntaxError\u001b[0m\u001b[1;31m:\u001b[0m invalid syntax\n"
     ]
    }
   ],
   "source": [
    "import numpy as np, pandas as pd\n",
    "importmatplotlib.pyplot as plt, matplotlib as mpl\n",
    "mpl.rc_file('tjy.mplstyle')"
   ]
  },
  {
   "cell_type": "code",
   "execution_count": 46,
   "id": "6cdf224d-2a69-4d40-abfc-fb432a638061",
   "metadata": {},
   "outputs": [],
   "source": [
    "from pathlib import Path\n",
    "p = Path('C:/Users/takas/OneDrive/Desktop/2025 GA Financial Census_May 15, 2025_21.34.csv')\n",
    "df = pd.read_csv(p,header=1)\n"
   ]
  },
  {
   "cell_type": "markdown",
   "id": "d83f5d67-6753-4f03-9b9e-be13de24188f",
   "metadata": {},
   "source": [
    "## Clean Qualtrics CSV"
   ]
  },
  {
   "cell_type": "code",
   "execution_count": 67,
   "id": "758c086d-95d4-4c93-9ac8-65e71530899a",
   "metadata": {},
   "outputs": [
    {
     "name": "stdout",
     "output_type": "stream",
     "text": [
      "/*****\n",
      "\n",
      "Data read into df1. 362 responses. 54 questions asked.\n",
      "\n",
      "*****/\n"
     ]
    }
   ],
   "source": [
    "df1 = df.drop([0])\n",
    "\n",
    "# No previews\n",
    "df1 = df1[df1['Response Type']!='Survey Preview'].reset_index(drop=True)\n",
    "\n",
    "# Discard unnecessary data\n",
    "df1 = df1.iloc[:,17:]\n",
    "\n",
    "# Print data summary\n",
    "print('/*****\\n\\nData read into df1. {} responses. {} questions asked.\\n\\n*****/'.format(*df1.shape))"
   ]
  },
  {
   "cell_type": "markdown",
   "id": "dfedc406-e721-40b6-b7ca-260d4929353b",
   "metadata": {},
   "source": [
    "## Background"
   ]
  },
  {
   "cell_type": "code",
   "execution_count": 113,
   "id": "473061ce-22bf-4214-b5cd-fd8654736e3d",
   "metadata": {},
   "outputs": [
    {
     "name": "stdout",
     "output_type": "stream",
     "text": [
      "Other divisions:\n",
      "\t['Quantitative bio sciences', 'Biophysics', 'QB3']\n",
      "Other departments:\n",
      "\tNone\n",
      "Specified departments:\n",
      "\tNone\n"
     ]
    }
   ],
   "source": [
    "df_bg = df1.iloc[:,:6]\n",
    "clabs = df_bg.columns\n",
    "\n",
    "print_fil = lambda x: print('\\t'+str([i for i in x[x.notna()]]))\n",
    "\n",
    "div_other = df_bg.pop(clabs[1])\n",
    "print('Other divisions:')\n",
    "if div_other.count() > 0: \n",
    "    print_fil(div_other)\n",
    "else: \n",
    "    print('\\tNone')\n",
    "\n",
    "dpt_other = df_bg.pop(clabs[3])\n",
    "print('Other departments:')\n",
    "if dpt_other.count() > 0:\n",
    "    print_fil(dpt_other)\n",
    "else: \n",
    "    print('\\tNone')\n",
    "\n",
    "dpt_speci = df_bg.pop(clabs[4])\n",
    "print('Specified departments:')\n",
    "if dpt_speci.count() > 0:\n",
    "    print_fil(dpt_speci)\n",
    "else: \n",
    "    print('\\tNone')"
   ]
  },
  {
   "cell_type": "code",
   "execution_count": null,
   "id": "aa76dcf7-17b6-4a55-a9e1-66223f47339b",
   "metadata": {},
   "outputs": [],
   "source": []
  }
 ],
 "metadata": {
  "kernelspec": {
   "display_name": "Python 3 (ipykernel)",
   "language": "python",
   "name": "python3"
  },
  "language_info": {
   "codemirror_mode": {
    "name": "ipython",
    "version": 3
   },
   "file_extension": ".py",
   "mimetype": "text/x-python",
   "name": "python",
   "nbconvert_exporter": "python",
   "pygments_lexer": "ipython3",
   "version": "3.10.7"
  }
 },
 "nbformat": 4,
 "nbformat_minor": 5
}
