{
 "cells": [
  {
   "cell_type": "code",
   "execution_count": 1,
   "id": "5fc37c06-c0cf-4be7-a9a3-f87d79a0b658",
   "metadata": {},
   "outputs": [
    {
     "name": "stdout",
     "output_type": "stream",
     "text": [
      "tjy_udf:  ['CalcF', 'H_find', 'Heights', 'Kap_D', 'elread', 'get_fp', 'get_fs', 'git_sync', 'lighten_color', 'phread', 'phreadxyz', 'plot_anim', 'plot_pha', 'plot_pha_feed', 'ticks']\n"
     ]
    }
   ],
   "source": [
    "import numpy as np, pandas as pd, matplotlib.pyplot as plt, matplotlib as mpl\n",
    "import tjy_udf as tjy\n",
    "from Data import Data\n",
    "from Pha3D import Pha3D\n",
    "print(\"tjy_udf: \", list(filter(lambda x: '__' not in x, dir(tjy)))) # Print contained functions\n",
    "mpl.rc_file('tjy.mplstyle')"
   ]
  },
  {
   "cell_type": "code",
   "execution_count": null,
   "id": "b91f4679-d68c-4138-86aa-cec747672f5c",
   "metadata": {},
   "outputs": [],
   "source": [
    "fp_work, fp_home = 'C:/Users/takas/Downloads/', 'E:/Downloads/' \n",
    "fp = fp_work\n",
    "pha3d = Pha3D(\"ph_a25s25e3_cyl24-2.dat\", dims=(18.4, 20.2, 48.2 ), discs=(0.20,0.20,0.20), fprefix=fp)\n",
    "\n",
    "g = pha3d.plot_vol(isomin=0.10, fprefix=fp, \n",
    "                   n_coarse=3, zmax=25.0, reflect_over='sw', write_html=True)"
   ]
  },
  {
   "cell_type": "code",
   "execution_count": 7,
   "id": "b430832d-cccf-405d-bff8-48038499a743",
   "metadata": {},
   "outputs": [
    {
     "name": "stdout",
     "output_type": "stream",
     "text": [
      "Wrote to C:/Users/takas/Downloads/pha_vol.html\n",
      "Opening...\n"
     ]
    }
   ],
   "source": [
    "fig = g\n",
    "fname=fp+'pha_vol.html'\n",
    "write_html = True\n",
    "open_html = True\n",
    "\n",
    "fig.update_layout(scene_xaxis_showticklabels=True, scene_yaxis_showticklabels=True, scene_zaxis_showticklabels=True,\n",
    "                          scene_aspectmode='data',\n",
    "                          template='simple_white', width=800, height=800)\n",
    "fig.update_traces(showscale=False)\n",
    "\n",
    "if write_html: \n",
    "    #fig.write_html(fname) \n",
    "    '''\n",
    "    f = open(fname, \"w\")\n",
    "    f.close()\n",
    "    with open(fname, 'a') as f:\n",
    "        f.write(fig.to_html(full_html=False, include_plotlyjs=True))\n",
    "    f.close()\n",
    "    '''\n",
    "    f = open(fname, \"w\")\n",
    "    f.close()\n",
    "    with open(fname, 'a') as f:\n",
    "        f.write(fig.to_html(full_html=False, include_plotlyjs='cdn'))\n",
    "    f.close()\n",
    "    \n",
    "    print('Wrote to {}'.format(fname))\n",
    "    \n",
    "    if open_html: \n",
    "        import webbrowser\n",
    "        webbrowser.open(fname)\n",
    "        print('Opening...')"
   ]
  }
 ],
 "metadata": {
  "kernelspec": {
   "display_name": "Python 3 (ipykernel)",
   "language": "python",
   "name": "python3"
  },
  "language_info": {
   "codemirror_mode": {
    "name": "ipython",
    "version": 3
   },
   "file_extension": ".py",
   "mimetype": "text/x-python",
   "name": "python",
   "nbconvert_exporter": "python",
   "pygments_lexer": "ipython3",
   "version": "3.10.7"
  }
 },
 "nbformat": 4,
 "nbformat_minor": 5
}
