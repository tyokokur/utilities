{
 "cells": [
  {
   "cell_type": "code",
   "execution_count": 1,
   "id": "5fc37c06-c0cf-4be7-a9a3-f87d79a0b658",
   "metadata": {},
   "outputs": [
    {
     "name": "stdout",
     "output_type": "stream",
     "text": [
      "tjy_udf:  ['CalcF', 'H_find', 'Heights', 'Kap_D', 'elread', 'get_fp', 'get_fs', 'git_sync', 'lighten_color', 'phread', 'phreadxyz', 'plot_anim', 'plot_pha', 'plot_pha_feed', 'ticks']\n"
     ]
    }
   ],
   "source": [
    "import numpy as np, pandas as pd, matplotlib.pyplot as plt, matplotlib as mpl\n",
    "import tjy_udf as tjy\n",
    "from Data import Data\n",
    "from Pha3D import Pha3D\n",
    "print(\"tjy_udf: \", list(filter(lambda x: '__' not in x, dir(tjy)))) # Print contained functions\n",
    "mpl.rc_file('tjy.mplstyle')"
   ]
  },
  {
   "cell_type": "code",
   "execution_count": 3,
   "id": "b91f4679-d68c-4138-86aa-cec747672f5c",
   "metadata": {},
   "outputs": [],
   "source": [
    "fp_work, fp_home = 'C:/Users/takas/Downloads/', 'E:/Downloads/' \n",
    "fp = fp_work\n",
    "# pha3d = Pha3D(\"ph_a25s25e3_cyl24-2.dat\", dims=(18.4, 20.2, 48.2 ), discs=(0.20,0.20,0.20), fprefix=fp)\n",
    "\n",
    "# g = pha3d.plot_vol(isomin=0.10, fprefix=fp, \n",
    "#                    n_coarse=3, zmax=25.0, reflect_over='sw', write_html=False)"
   ]
  },
  {
   "cell_type": "code",
   "execution_count": 10,
   "id": "b430832d-cccf-405d-bff8-48038499a743",
   "metadata": {},
   "outputs": [
    {
     "name": "stdout",
     "output_type": "stream",
     "text": [
      "Wrote to C:/Users/takas/Downloads/pha_vol.html\n",
      "Opening...\n"
     ]
    }
   ],
   "source": [
    "fig = g\n",
    "fname=fp+'pha_vol.html'\n",
    "write_html = True\n",
    "open_html = True\n",
    "\n",
    "####################\n",
    "\n",
    "fig.update_layout(scene_xaxis_showticklabels=True, scene_yaxis_showticklabels=True, scene_zaxis_showticklabels=True,\n",
    "                          scene_aspectmode='data',\n",
    "                          template='simple_white', width=1920, height=1080)\n",
    "fig.update_traces(showscale=False)\n",
    "\n",
    "if write_html: \n",
    "    #fig.write_html(fname) \n",
    "    '''\n",
    "    f = open(fname, \"w\")\n",
    "    f.close()\n",
    "    with open(fname, 'a') as f:\n",
    "        f.write(fig.to_html(full_html=False, include_plotlyjs=True))\n",
    "    f.close()\n",
    "    '''\n",
    "    f = open(fname, \"w\")\n",
    "    f.close()\n",
    "    with open(fname, 'a') as f:\n",
    "        f.write(fig.to_html(full_html=False, include_plotlyjs='cdn'))\n",
    "    f.close()\n",
    "    \n",
    "    print('Wrote to {}'.format(fname))\n",
    "    \n",
    "    if open_html: \n",
    "        import webbrowser\n",
    "        webbrowser.open(fname)\n",
    "        print('Opening...')"
   ]
  },
  {
   "cell_type": "code",
   "execution_count": 158,
   "id": "0579bc32-50f0-416c-8539-436cbcf8f94e",
   "metadata": {},
   "outputs": [],
   "source": [
    "import matplotlib.pyplot as plt\n",
    "import numpy as np"
   ]
  },
  {
   "cell_type": "code",
   "execution_count": 12,
   "id": "f37ed2e5-2450-4185-bbab-475c3c5c4b19",
   "metadata": {},
   "outputs": [],
   "source": [
    "f2_fnames = ['ph_a10s25e3_mic12-1.dat', 'ph_a25s25e3_cyl24-2.dat']\n",
    "f2_boxes  = [(28.2, 25.8, 40.2), (18.4, 20.2, 48.2)]\n",
    "\n",
    "###############\n",
    "\n",
    "import plotly.graph_objects as go\n",
    "\n",
    "pha3d = Pha3D(f2_fnames[1], dims=f2_boxes[1], fprefix=fp)\n",
    "data = pha3d.get_vol(isomin=0.10, fprefix=fp, \n",
    "                     n_coarse=1, zmax=25.0, reflect_over='sw', write_html=False)"
   ]
  },
  {
   "cell_type": "code",
   "execution_count": 13,
   "id": "69f5dec6-7da9-4965-bc3e-7a8663d3fb5f",
   "metadata": {},
   "outputs": [
    {
     "name": "stdout",
     "output_type": "stream",
     "text": [
      "Wrote to C:/Users/takas/Downloads/pha_vol.html\n",
      "Opening...\n"
     ]
    }
   ],
   "source": [
    "# g = pha3d.plot_vol(isomin=0.10, fprefix=fp, \n",
    "#                    n_coarse=3, zmax=25.0, reflect_over='sw', write_html=False)\n",
    "\n",
    "opt = 'x'     # 'd'efault, 'x'z, 'y'z\n",
    "d   = 3.0       # Distance from center\n",
    "a   = 25        # Angle, if applicable\n",
    "zcenter = 0.0 # Camera focal point\n",
    "\n",
    "match opt:\n",
    "    case 'd': eye=dict(x=-d/np.sqrt(3), y=-d/np.sqrt(3), z=d/np.sqrt(3)) #default\n",
    "    case 'x': eye=dict(x=0, y=-d*np.cos(np.pi/180*a), z=d*np.sin(np.pi/180*a)) # xz at given angle\n",
    "    case 'y': eye=dict(x=d*np.cos(np.pi/180*a), y=0, z=d*np.sin(np.pi/180*a)) # yz at given angle\n",
    "    case  _ : eye=dict(x=-d/np.sqrt(3), y=-d/np.sqrt(3), z=d/np.sqrt(3)) #default\n",
    "    # eye=dict(x=d, y=0.0, z=0.0) # yz\n",
    "    # eye=dict(x=0.0, y=-d, z=0.0) # xz\n",
    "\n",
    "camera = dict(\n",
    "    up=dict(x=0, y=0, z=1), center=dict(x=0, y=0, z= zcenter),\n",
    "    eye = eye\n",
    ")\n",
    "\n",
    "layout = go.Layout(\n",
    "    autosize=False,\n",
    "    font= dict(size=24, family='serif', color='black'),\n",
    "    hovermode=False,\n",
    "    scene =  dict( \n",
    "        xaxis = dict(nticks=3, range=[-18.41,18.41], title='',\n",
    "                     ticks='outside',tickangle=0,tickwidth=1,ticklen=5,\n",
    "                     ticktext= ['', '',''], tickvals= [-15, 0, 15],\n",
    "                     spikethickness=0,\n",
    "                     zeroline=False, showgrid=False, backgroundcolor='white',\n",
    "                    ), \n",
    "        yaxis = dict(showticklabels=False, title='', zeroline=False, showgrid=False, backgroundcolor='white',), \n",
    "        zaxis = dict(nticks=3, range=[0,25.2], title='',\n",
    "                     ticks='outside',tickangle=0,tickwidth=1,ticklen=5,\n",
    "                     ticktext= ['', '', ''], tickvals= [0, 10, 20],\n",
    "                     spikethickness=0,\n",
    "                     zeroline=False, showgrid=False,backgroundcolor='white',\n",
    "                    ), \n",
    "    ),\n",
    "    scene_camera=camera,\n",
    "    width=1200,\n",
    "    height=800,\n",
    "    margin=dict(l=20, r=20, t=20, b=20)\n",
    ")\n",
    "fig = go.Figure(data, layout)\n",
    "fig.update_traces(showscale=False)\n",
    "\n",
    "fname = fp+'pha_vol.html'\n",
    "f = open(fname, \"w\")\n",
    "f.close()\n",
    "with open(fname, 'a') as f:\n",
    "    f.write(fig.to_html(full_html=False, include_plotlyjs='cdn'))\n",
    "f.close()\n",
    "print('Wrote to {}'.format(fname))\n",
    "    \n",
    "import webbrowser\n",
    "webbrowser.open(fname)\n",
    "print('Opening...')"
   ]
  },
  {
   "cell_type": "code",
   "execution_count": 15,
   "id": "0561639d-3ba4-4dc1-9c2c-1a94a4dc6993",
   "metadata": {},
   "outputs": [
    {
     "ename": "FileNotFoundError",
     "evalue": "[Errno 2] No such file or directory: '../figures/SYSG3/a25_cyl-empty'",
     "output_type": "error",
     "traceback": [
      "\u001b[1;31m---------------------------------------------------------------------------\u001b[0m",
      "\u001b[1;31mFileNotFoundError\u001b[0m                         Traceback (most recent call last)",
      "Cell \u001b[1;32mIn [15], line 2\u001b[0m\n\u001b[0;32m      1\u001b[0m \u001b[38;5;28;01mfrom\u001b[39;00m \u001b[38;5;21;01mPIL\u001b[39;00m \u001b[38;5;28;01mimport\u001b[39;00m Image\n\u001b[1;32m----> 2\u001b[0m img \u001b[38;5;241m=\u001b[39m np\u001b[38;5;241m.\u001b[39masarray(Image\u001b[38;5;241m.\u001b[39mopen(\u001b[38;5;124m\"\u001b[39m\u001b[38;5;124m../figures/SYSG3/a25_cyl-empty\u001b[39m\u001b[38;5;124m\"\u001b[39m))\n\u001b[0;32m      3\u001b[0m plt\u001b[38;5;241m.\u001b[39mimshow(img)\n\u001b[0;32m      4\u001b[0m kwargs \u001b[38;5;241m=\u001b[39m \u001b[38;5;28mdict\u001b[39m(transform\u001b[38;5;241m=\u001b[39mplt\u001b[38;5;241m.\u001b[39mgca()\u001b[38;5;241m.\u001b[39mtransAxes, fontsize\u001b[38;5;241m=\u001b[39m\u001b[38;5;241m24\u001b[39m)\n",
      "File \u001b[1;32m~\\AppData\\Local\\Programs\\Python\\Python310\\lib\\site-packages\\PIL\\Image.py:3092\u001b[0m, in \u001b[0;36mopen\u001b[1;34m(fp, mode, formats)\u001b[0m\n\u001b[0;32m   3089\u001b[0m     filename \u001b[38;5;241m=\u001b[39m fp\n\u001b[0;32m   3091\u001b[0m \u001b[38;5;28;01mif\u001b[39;00m filename:\n\u001b[1;32m-> 3092\u001b[0m     fp \u001b[38;5;241m=\u001b[39m \u001b[43mbuiltins\u001b[49m\u001b[38;5;241;43m.\u001b[39;49m\u001b[43mopen\u001b[49m\u001b[43m(\u001b[49m\u001b[43mfilename\u001b[49m\u001b[43m,\u001b[49m\u001b[43m \u001b[49m\u001b[38;5;124;43m\"\u001b[39;49m\u001b[38;5;124;43mrb\u001b[39;49m\u001b[38;5;124;43m\"\u001b[39;49m\u001b[43m)\u001b[49m\n\u001b[0;32m   3093\u001b[0m     exclusive_fp \u001b[38;5;241m=\u001b[39m \u001b[38;5;28;01mTrue\u001b[39;00m\n\u001b[0;32m   3095\u001b[0m \u001b[38;5;28;01mtry\u001b[39;00m:\n",
      "\u001b[1;31mFileNotFoundError\u001b[0m: [Errno 2] No such file or directory: '../figures/SYSG3/a25_cyl-empty'"
     ]
    }
   ],
   "source": [
    "from PIL import Image\n",
    "img = np.asarray(Image.open(\"../figures/SYSG3/a25_cyl-empty\"))\n",
    "plt.imshow(img)\n",
    "kwargs = dict(transform=plt.gca().transAxes, fontsize=24)\n",
    "p = lambda x: r'$\\mathrm{{ {:} }}$'.format(x)\n",
    "f = plt.gcf()\n",
    "plt.axis('off')\n",
    "\n",
    "## x\n",
    "plt.text(0.29,   0.17,p(-15), **kwargs)\n",
    "plt.text(0.5888, 0.17, p(0), **kwargs)\n",
    "plt.text(0.82,   0.17,p(15),**kwargs)\n",
    "## y\n",
    "plt.text(0.179, 0.408, p(10), **kwargs)\n",
    "plt.text(0.143, 0.645, p(20),**kwargs)\n",
    "## labs\n",
    "plt.text(0.60, 0.025, r'$x~\\mathrm{[nm]}$', horizontalalignment='center', **kwargs)\n",
    "plt.text(0.06, 0.38, r'$z~\\mathrm{[nm]}$', horizontalalignment='center', **kwargs, rotation=90)\n",
    "\n",
    "plt.savefig('../figures/SYSG3/a25_cyl.pdf')\n",
    "plt.show()"
   ]
  }
 ],
 "metadata": {
  "kernelspec": {
   "display_name": "Python 3 (ipykernel)",
   "language": "python",
   "name": "python3"
  },
  "language_info": {
   "codemirror_mode": {
    "name": "ipython",
    "version": 3
   },
   "file_extension": ".py",
   "mimetype": "text/x-python",
   "name": "python",
   "nbconvert_exporter": "python",
   "pygments_lexer": "ipython3",
   "version": "3.10.7"
  }
 },
 "nbformat": 4,
 "nbformat_minor": 5
}
