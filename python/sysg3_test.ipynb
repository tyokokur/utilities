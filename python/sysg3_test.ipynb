{
 "cells": [
  {
   "cell_type": "code",
   "execution_count": 1,
   "id": "5fc37c06-c0cf-4be7-a9a3-f87d79a0b658",
   "metadata": {},
   "outputs": [
    {
     "name": "stdout",
     "output_type": "stream",
     "text": [
      "tjy_udf:  ['CalcF', 'H_find', 'Heights', 'Kap_D', 'elread', 'get_fp', 'get_fs', 'git_sync', 'lighten_color', 'phread', 'phreadxyz', 'plot_anim', 'plot_pha', 'plot_pha_feed', 'ticks']\n"
     ]
    }
   ],
   "source": [
    "import numpy as np, pandas as pd, matplotlib.pyplot as plt, matplotlib as mpl\n",
    "import tjy_udf as tjy\n",
    "from Data import Data\n",
    "from Pha3D import Pha3D\n",
    "print(\"tjy_udf: \", list(filter(lambda x: '__' not in x, dir(tjy)))) # Print contained functions\n",
    "mpl.rc_file('tjy.mplstyle')"
   ]
  },
  {
   "cell_type": "code",
   "execution_count": 8,
   "id": "b91f4679-d68c-4138-86aa-cec747672f5c",
   "metadata": {},
   "outputs": [
    {
     "name": "stdout",
     "output_type": "stream",
     "text": [
      "Wrote to C:/Users/takas/Downloads/pha_vol.html\n",
      "Opening...\n"
     ]
    }
   ],
   "source": [
    "fp_work, fp_home = 'C:/Users/takas/Downloads/', 'E:/Downloads/' \n",
    "fp = fp_work\n",
    "pha3d = Pha3D(\"ph_a25s25e3_cyl24-2.dat\", dims=(18.4, 20.2, 48.2 ), discs=(0.20,0.20,0.20), fprefix=fp)\n",
    "\n",
    "g = pha3d.plot_vol(isomin=0.10, fprefix=fp, \n",
    "                   n_coarse=3, zmax=25.0, reflect_over='sw', write_html=True)"
   ]
  },
  {
   "cell_type": "code",
   "execution_count": 10,
   "id": "b430832d-cccf-405d-bff8-48038499a743",
   "metadata": {},
   "outputs": [
    {
     "name": "stdout",
     "output_type": "stream",
     "text": [
      "Wrote to C:/Users/takas/Downloads/pha_vol.html\n",
      "Opening...\n"
     ]
    }
   ],
   "source": [
    "fig = g\n",
    "fname=fp+'pha_vol.html'\n",
    "write_html = True\n",
    "open_html = True\n",
    "\n",
    "####################\n",
    "\n",
    "fig.update_layout(scene_xaxis_showticklabels=True, scene_yaxis_showticklabels=True, scene_zaxis_showticklabels=True,\n",
    "                          scene_aspectmode='data',\n",
    "                          template='simple_white', width=1920, height=1080)\n",
    "fig.update_traces(showscale=False)\n",
    "\n",
    "if write_html: \n",
    "    #fig.write_html(fname) \n",
    "    '''\n",
    "    f = open(fname, \"w\")\n",
    "    f.close()\n",
    "    with open(fname, 'a') as f:\n",
    "        f.write(fig.to_html(full_html=False, include_plotlyjs=True))\n",
    "    f.close()\n",
    "    '''\n",
    "    f = open(fname, \"w\")\n",
    "    f.close()\n",
    "    with open(fname, 'a') as f:\n",
    "        f.write(fig.to_html(full_html=False, include_plotlyjs='cdn'))\n",
    "    f.close()\n",
    "    \n",
    "    print('Wrote to {}'.format(fname))\n",
    "    \n",
    "    if open_html: \n",
    "        import webbrowser\n",
    "        webbrowser.open(fname)\n",
    "        print('Opening...')"
   ]
  },
  {
   "cell_type": "code",
   "execution_count": null,
   "id": "33e4c3eb-9221-48c4-9a0d-331c62163da9",
   "metadata": {},
   "outputs": [],
   "source": [
    "import plotly.express as px\n",
    "import kaleido\n",
    "\n",
    "### Make a figure generator\n",
    "\n",
    "def generate_figures(): # can be async as well\n",
    "  data = px.data.gapminder()\n",
    "  for country in data[\"country\"].unique(): # list all countries in dataset\n",
    "    # yield unique plot for each country\n",
    "    yield px.line(\n",
    "        data.query(f'country==\"{country}\"'),\n",
    "        x=\"year\",\n",
    "        y=\"lifeExp\",\n",
    "        title=f\"Life expectancy in {country}\"\n",
    "        )\n",
    "\n",
    "# four processors\n",
    "kaleido.write_fig_sync(generate_figures(), path=\"./output/\", n=4)\n",
    "# file names will be taken from figure title\n",
    "\n",
    "\n",
    "### If you need more control, use an object\n",
    "\n",
    "def generate_figure_objects():\n",
    "  data = px.data.gapminder()\n",
    "  for country in data[\"country\"].unique(): # list all countries in dataset\n",
    "    fig = px.line(\n",
    "        data.query(f'country==\"{country}\"'),\n",
    "        x=\"year\",\n",
    "        y=\"lifeExp\",\n",
    "        title=f\"Life expectancy in {country}\"\n",
    "        )\n",
    "    yield {\"fig\": fig, \"path\": f\"./output/{country}.jpg\"}\n",
    "    # customize file name\n",
    "\n",
    "# four processors\n",
    "kaleido.write_fig_from_object_sync(generate_figure_objects(), n=4)"
   ]
  }
 ],
 "metadata": {
  "kernelspec": {
   "display_name": "Python 3 (ipykernel)",
   "language": "python",
   "name": "python3"
  },
  "language_info": {
   "codemirror_mode": {
    "name": "ipython",
    "version": 3
   },
   "file_extension": ".py",
   "mimetype": "text/x-python",
   "name": "python",
   "nbconvert_exporter": "python",
   "pygments_lexer": "ipython3",
   "version": "3.10.7"
  }
 },
 "nbformat": 4,
 "nbformat_minor": 5
}
